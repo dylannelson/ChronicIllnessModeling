{
 "cells": [
  {
   "cell_type": "code",
   "execution_count": 3,
   "metadata": {},
   "outputs": [],
   "source": [
    "from datascience import *\n",
    "import numpy as np\n",
    "%matplotlib inline\n",
    "import matplotlib.pyplot as plt\n",
    "from numpy import array\n",
    "from numpy.linalg import inv"
   ]
  },
  {
   "cell_type": "code",
   "execution_count": 7,
   "metadata": {},
   "outputs": [],
   "source": [
    "ExampleTable = Table.read_table(\"U.S._Chronic_Disease_Indicators__CDI_.csv\")"
   ]
  },
  {
   "cell_type": "code",
   "execution_count": 8,
   "metadata": {},
   "outputs": [],
   "source": [
    "ExampleTable1 = ExampleTable.group(\"StratificationCategoryID3\")"
   ]
  },
  {
   "cell_type": "code",
   "execution_count": 10,
   "metadata": {},
   "outputs": [
    {
     "data": {
      "text/html": [
       "<table border=\"1\" class=\"dataframe\">\n",
       "    <thead>\n",
       "        <tr>\n",
       "            <th>StratificationCategoryID3</th> <th>count</th>\n",
       "        </tr>\n",
       "    </thead>\n",
       "    <tbody>\n",
       "        <tr>\n",
       "            <td>                         </td> <td>79188 </td>\n",
       "        </tr>\n",
       "        <tr>\n",
       "            <td>nan                      </td> <td>440530</td>\n",
       "        </tr>\n",
       "    </tbody>\n",
       "</table>"
      ],
      "text/plain": [
       "StratificationCategoryID3 | count\n",
       "                          | 79188\n",
       "nan                       | 440530"
      ]
     },
     "execution_count": 10,
     "metadata": {},
     "output_type": "execute_result"
    }
   ],
   "source": [
    "ExampleTable1"
   ]
  },
  {
   "cell_type": "code",
   "execution_count": 9,
   "metadata": {},
   "outputs": [],
   "source": [
    "ExampleTable2 = ExampleTable.group(\"Response\")"
   ]
  },
  {
   "cell_type": "code",
   "execution_count": 11,
   "metadata": {},
   "outputs": [
    {
     "data": {
      "text/html": [
       "<table border=\"1\" class=\"dataframe\">\n",
       "    <thead>\n",
       "        <tr>\n",
       "            <th>Response</th> <th>count</th>\n",
       "        </tr>\n",
       "    </thead>\n",
       "    <tbody>\n",
       "        <tr>\n",
       "            <td>        </td> <td>79188 </td>\n",
       "        </tr>\n",
       "        <tr>\n",
       "            <td>nan     </td> <td>440530</td>\n",
       "        </tr>\n",
       "    </tbody>\n",
       "</table>"
      ],
      "text/plain": [
       "Response | count\n",
       "         | 79188\n",
       "nan      | 440530"
      ]
     },
     "execution_count": 11,
     "metadata": {},
     "output_type": "execute_result"
    }
   ],
   "source": [
    "ExampleTable2"
   ]
  },
  {
   "cell_type": "code",
   "execution_count": 13,
   "metadata": {},
   "outputs": [],
   "source": [
    "data = Table.read_table(\"U.S._Chronic_Disease_Indicators__CDI_.csv\")\\\n",
    ".drop(\"StratificationCategoryID3\", \"StratificationID3\",\"StratificationCategory3\", \"Stratification3\", \"Response\",\\\n",
    "      \"StratificationCategoryID1\",\"StratificationID1\",\"StratificationCategoryID2\",\"StratificationID2\",\"DataValueTypeID\",\\\n",
    "      \"QuestionID\",\"TopicID\",\"LocationID\",\"ResponseID\", \"DataSource\",\"GeoLocation\",\"StratificationCategory2\",\"Stratification2\",\\\n",
    "     \"LocationAbbr\",\"YearEnd\")"
   ]
  },
  {
   "cell_type": "code",
   "execution_count": 36,
   "metadata": {},
   "outputs": [
    {
     "data": {
      "text/html": [
       "<table border=\"1\" class=\"dataframe\">\n",
       "    <thead>\n",
       "        <tr>\n",
       "            <th>YearStart</th> <th>YearEnd</th> <th>LocationDesc</th> <th>Topic</th> <th>Question</th> <th>DataValueUnit</th> <th>DataValueType</th> <th>DataValue</th> <th>DataValueAlt</th> <th>DataValueFootnoteSymbol</th> <th>DatavalueFootnote</th> <th>LowConfidenceLimit</th> <th>HighConfidenceLimit</th> <th>StratificationCategory1</th> <th>Stratification1</th>\n",
       "        </tr>\n",
       "    </thead>\n",
       "    <tbody>\n",
       "        <tr>\n",
       "            <td>2015     </td> <td>2015   </td> <td>United States       </td> <td>Alcohol</td> <td>Amount of alcohol excise tax by beverage type (wine)</td> <td>$            </td> <td>US Dollars   </td> <td>nan      </td> <td>nan         </td> <td>-                      </td> <td>No data available</td> <td>nan               </td> <td>nan                </td> <td>Overall                </td> <td>Overall        </td>\n",
       "        </tr>\n",
       "        <tr>\n",
       "            <td>2012     </td> <td>2012   </td> <td>District of Columbia</td> <td>Alcohol</td> <td>Amount of alcohol excise tax by beverage type (beer)</td> <td>$            </td> <td>US Dollars   </td> <td>0.09     </td> <td>0.09        </td> <td>nan                    </td> <td>nan              </td> <td>nan               </td> <td>nan                </td> <td>Overall                </td> <td>Overall        </td>\n",
       "        </tr>\n",
       "        <tr>\n",
       "            <td>2012     </td> <td>2012   </td> <td>Guam                </td> <td>Alcohol</td> <td>Amount of alcohol excise tax by beverage type (beer)</td> <td>$            </td> <td>US Dollars   </td> <td>nan      </td> <td>nan         </td> <td>-                      </td> <td>No data available</td> <td>nan               </td> <td>nan                </td> <td>Overall                </td> <td>Overall        </td>\n",
       "        </tr>\n",
       "        <tr>\n",
       "            <td>2012     </td> <td>2012   </td> <td>Puerto Rico         </td> <td>Alcohol</td> <td>Amount of alcohol excise tax by beverage type (beer)</td> <td>$            </td> <td>US Dollars   </td> <td>nan      </td> <td>nan         </td> <td>-                      </td> <td>No data available</td> <td>nan               </td> <td>nan                </td> <td>Overall                </td> <td>Overall        </td>\n",
       "        </tr>\n",
       "    </tbody>\n",
       "</table>\n",
       "<p>... (519714 rows omitted)</p>"
      ],
      "text/plain": [
       "<IPython.core.display.HTML object>"
      ]
     },
     "metadata": {},
     "output_type": "display_data"
    }
   ],
   "source": [
    "data.show(4)"
   ]
  },
  {
   "cell_type": "code",
   "execution_count": 1,
   "metadata": {},
   "outputs": [],
   "source": [
    "# TopicsTable = data.group(\"Topic\")\\\n",
    "# .sort(\"count\", descending = True)\n",
    "# QuestionsTable = data.group(\"Question\")\\\n",
    "# .sort(\"count\", descending = True)\n",
    "# LocationsTable = data.group(\"LocationDesc\")\\\n",
    "# .sort(\"count\", descending = True)\n",
    "# Footnotes = data.group(\"DatavalueFootnote\")\\\n",
    "# .sort(\"count\", descending = True)\n",
    "# FootNoteArray = Footnotes.column(\"DatavalueFootnote\")\n",
    "# TopicsTable.show()"
   ]
  },
  {
   "cell_type": "code",
   "execution_count": 6,
   "metadata": {},
   "outputs": [],
   "source": [
    "#List of Questions\n",
    "# questionsArray = QuestionsTable.column(\"Question\")\n",
    "# print(\"Number of questions: \" + str(len(questionsArray)))\n",
    "# for i in questionsArray:\n",
    "#     print(i)\n",
    "#     print()"
   ]
  },
  {
   "cell_type": "code",
   "execution_count": 16,
   "metadata": {},
   "outputs": [],
   "source": [
    "diabetesTable = ExampleTable.where(\"Topic\", are.equal_to(\"Diabetes\"))\\\n",
    ".where(\"StratificationCategory1\", are.equal_to(\"Overall\"))\\\n",
    ".where(\"DataValueType\", are.equal_to(\"Age-adjusted Prevalence\"))\\\n",
    ".group(\"YearStart\")"
   ]
  },
  {
   "cell_type": "code",
   "execution_count": 17,
   "metadata": {},
   "outputs": [
    {
     "data": {
      "text/html": [
       "<table border=\"1\" class=\"dataframe\">\n",
       "    <thead>\n",
       "        <tr>\n",
       "            <th>YearStart</th> <th>count</th>\n",
       "        </tr>\n",
       "    </thead>\n",
       "    <tbody>\n",
       "        <tr>\n",
       "            <td>2011     </td> <td>660  </td>\n",
       "        </tr>\n",
       "        <tr>\n",
       "            <td>2012     </td> <td>605  </td>\n",
       "        </tr>\n",
       "        <tr>\n",
       "            <td>2013     </td> <td>660  </td>\n",
       "        </tr>\n",
       "        <tr>\n",
       "            <td>2014     </td> <td>605  </td>\n",
       "        </tr>\n",
       "        <tr>\n",
       "            <td>2015     </td> <td>660  </td>\n",
       "        </tr>\n",
       "        <tr>\n",
       "            <td>2016     </td> <td>605  </td>\n",
       "        </tr>\n",
       "    </tbody>\n",
       "</table>"
      ],
      "text/plain": [
       "YearStart | count\n",
       "2011      | 660\n",
       "2012      | 605\n",
       "2013      | 660\n",
       "2014      | 605\n",
       "2015      | 660\n",
       "2016      | 605"
      ]
     },
     "execution_count": 17,
     "metadata": {},
     "output_type": "execute_result"
    }
   ],
   "source": [
    "diabetesTable"
   ]
  },
  {
   "cell_type": "code",
   "execution_count": 22,
   "metadata": {},
   "outputs": [],
   "source": [
    "#Table with 12 questions, with samples from every territory, and is consistent over the years\n",
    "diaTable = data.where(\"Topic\", are.equal_to(\"Diabetes\")).where(\"StratificationCategory1\", are.equal_to(\"Overall\"))\\\n",
    ".where(\"DataValueType\", are.equal_to(\"Age-adjusted Prevalence\"))\\\n",
    ".where(\"YearStart\", are.not_equal_to(2012))\\\n",
    ".where(\"YearStart\", are.not_equal_to(2014))\\\n",
    ".where(\"YearStart\", are.not_equal_to(2016))\\\n",
    ".where(\"Question\", are.not_equal_to(\"Dilated eye examination among adults aged >= 18 years with diagnosed diabetes\"))\\\n",
    ".where(\"Question\", are.not_equal_to(\"Foot examination among adults aged >= 18 years with diagnosed diabetes\"))\\\n",
    ".where(\"Question\", are.not_equal_to(\"Glycosylated hemoglobin measurement among adults aged >= 18 years with diagnosed diabetes\"))\\\n",
    ".where(\"Question\", are.not_equal_to(\"Prevalence of diagnosed diabetes among adults aged >= 18 years\")) \n",
    "#Didn't include questions where their weight on life expectancy could go in either direction"
   ]
  },
  {
   "cell_type": "code",
   "execution_count": 23,
   "metadata": {},
   "outputs": [],
   "source": [
    "# Made \"Valid Diabetes Table, where it clears out a ton of null values we can't use\"\n",
    "ValidDT = diaTable.where(\"DataValue\", are.not_equal_to(\"nan\"))\n",
    "#ValidDT.show(3)\n",
    "def string_to_float(column_val):\n",
    "    try:\n",
    "        converted_val = float(column_val)\n",
    "    except:\n",
    "        print(\"Error\")\n",
    "    return converted_val\n",
    "# Changes the string values in the row we need to floats\n",
    "ValidDT_converted = ValidDT.with_columns(\"DataValue\", \\\n",
    "                                         ValidDT.apply(string_to_float, \"DataValue\"))"
   ]
  },
  {
   "cell_type": "code",
   "execution_count": 24,
   "metadata": {},
   "outputs": [
    {
     "name": "stdout",
     "output_type": "stream",
     "text": [
      "Adults with diagnosed diabetes aged >= 18 years who have taken a diabetes self-management course\n",
      "Influenza vaccination among noninstitutionalized adults aged 18-64 years with diagnosed diabetes\n",
      "Influenza vaccination among noninstitutionalized adults aged >= 65 years with diagnosed diabetes\n",
      "Pneumococcal vaccination among noninstitutionalized adults aged 18-64 years with diagnosed diabetes\n",
      "Pneumococcal vaccination among noninstitutionalized adults aged >= 65 years with diagnosed diabetes\n",
      "Prevalence of depressive disorders among adults aged >= 18 years with diagnosed diabetes\n",
      "Prevalence of high blood pressure among adults aged >= 18 years with diagnosed diabetes\n",
      "Prevalence of high cholesterol among adults aged >= 18 years with diagnosed diabetes\n"
     ]
    }
   ],
   "source": [
    "Questions = diaTable.group(\"Question\").column(0).tolist()\n",
    "# These are now the only questions we will use that we think can help predict\n",
    "# diabetes mortality rate\n",
    "for i in Questions:\n",
    "    print(i)"
   ]
  },
  {
   "cell_type": "code",
   "execution_count": 25,
   "metadata": {
    "scrolled": true
   },
   "outputs": [
    {
     "data": {
      "text/plain": [
       "50"
      ]
     },
     "execution_count": 25,
     "metadata": {},
     "output_type": "execute_result"
    }
   ],
   "source": [
    "#making a dictionary of States/Territories from the Taable\n",
    "states = ValidDT.group(\"LocationDesc\").column(0)\n",
    "statesValues = {}\n",
    "for i in states:\n",
    "    if i not in [\"United States\", \"District of Columbia\", \"Guam\", \"Puerto Rico\"]:\n",
    "        statesValues[i] = [1]\n",
    "\n",
    "#   The Design Matrix    \n",
    "#   We need this for doing Least squares regression on our 8-D data\n",
    "#   Since we are using multiple features (8), it requires linear algebra\n",
    "for q in Questions:\n",
    "    ValidDT_Q = ValidDT_converted.where(\"Question\", are.equal_to(q))\n",
    "    overallMean = np.mean(ValidDT_Q.column(\"DataValue\"))\n",
    "    for s in statesValues.keys():\n",
    "        ValidDT_Q_S = ValidDT_Q.where(\"LocationDesc\", are.equal_to(s))\n",
    "        curr_data = ValidDT_Q_S.column(\"DataValue\")\n",
    "        if len(curr_data) == 0:\n",
    "            meanOfQues = overallMean\n",
    "        else: \n",
    "            meanOfQues = sum(curr_data)/len(curr_data)\n",
    "        statesValues[s] += [meanOfQues]\n",
    "designMatrix = []\n",
    "for i in statesValues.values():\n",
    "    designMatrix += [i]\n",
    "len(designMatrix)"
   ]
  },
  {
   "cell_type": "code",
   "execution_count": 26,
   "metadata": {},
   "outputs": [],
   "source": [
    "#Using the formula associated with finding the vector of weights\n",
    "# -> w = ((X^T x X)^-1)X^T(y)\n",
    "designMatrixArray = array(designMatrix)\n",
    "first = designMatrixArray.transpose().dot(designMatrixArray)\n",
    "first = first = inv(first)\n",
    "second = first.dot(designMatrixArray.transpose())\n"
   ]
  },
  {
   "cell_type": "code",
   "execution_count": 27,
   "metadata": {},
   "outputs": [],
   "source": [
    "# Now I need a y vector, our predictions\n",
    "# Using a seperate dataset of actual deaths, we could analzye y for each state\n",
    "stateDeaths = Table.read_table(\"Diabetes Mortality by State.csv\")\\\n",
    ".drop(\"URL\", \"DEATHS\").where(\"STATE\", are.not_equal_to(\"nan\"))\n",
    "# Had to clean up the original data set first though\n",
    "statesDict = {\n",
    "        'AK': 'Alaska','AL': 'Alabama','AR': 'Arkansas','AS': 'American Samoa','AZ': 'Arizona','CA': 'California','CO': 'Colorado',\n",
    "        'CT': 'Connecticut','DC': 'District of Columbia','DE': 'Delaware','FL': 'Florida','GA': 'Georgia','GU': 'Guam',\n",
    "        'HI': 'Hawaii','IA': 'Iowa','ID': 'Idaho','IL': 'Illinois','IN': 'Indiana','KS': 'Kansas','KY': 'Kentucky','LA': 'Louisiana',\n",
    "        'MA': 'Massachusetts','MD': 'Maryland','ME': 'Maine','MI': 'Michigan','MN': 'Minnesota','MO': 'Missouri',\n",
    "        'MP': 'Northern Mariana Islands','MS': 'Mississippi','MT': 'Montana','NA': 'National','NC': 'North Carolina',\n",
    "        'ND': 'North Dakota','NE': 'Nebraska','NH': 'New Hampshire','NJ': 'New Jersey',\n",
    "        'NM': 'New Mexico','NV': 'Nevada','NY': 'New York','OH': 'Ohio','OK': 'Oklahoma','OR': 'Oregon','PA': 'Pennsylvania',\n",
    "        'PR': 'Puerto Rico','RI': 'Rhode Island','SC': 'South Carolina','SD': 'South Dakota','TN': 'Tennessee','TX': 'Texas',\n",
    "        'UT': 'Utah','VA': 'Virginia','VI': 'Virgin Islands','VT': 'Vermont','WA': 'Washington','WI': 'Wisconsin',\n",
    "        'WV': 'West Virginia','WY': 'Wyoming'\n",
    "}\n",
    "#making yVector\n",
    "def translateName(abrev):\n",
    "    return statesDict[abrev]\n",
    "stateDeaths = stateDeaths.with_columns(\"STATE\", stateDeaths.apply(translateName, \"STATE\"))\n",
    "def convertToRatio(rate):\n",
    "    return rate/100_000\n",
    "stateDeaths = stateDeaths.with_columns(\"PROPORTION\", stateDeaths.apply(convertToRatio, \"RATE\"))\n",
    "yVector = stateDeaths.where(\"YEAR\", are.equal_to(2017)).column(\"PROPORTION\")"
   ]
  },
  {
   "cell_type": "code",
   "execution_count": 28,
   "metadata": {},
   "outputs": [
    {
     "data": {
      "text/plain": [
       "array([ 6.17561415e-06,  1.39228305e-06, -3.12634037e-07,  1.19192175e-06,\n",
       "       -2.72729756e-06,  1.00450849e-06,  2.49099914e-06,  2.31845173e-06,\n",
       "       -1.82664809e-06])"
      ]
     },
     "execution_count": 28,
     "metadata": {},
     "output_type": "execute_result"
    }
   ],
   "source": [
    "weightsVector = second.dot(yVector)\n",
    "weightsVector"
   ]
  },
  {
   "cell_type": "code",
   "execution_count": 29,
   "metadata": {
    "scrolled": true
   },
   "outputs": [
    {
     "data": {
      "text/plain": [
       "['Adults with diagnosed diabetes aged >= 18 years who have taken a diabetes self-management course',\n",
       " 'Influenza vaccination among noninstitutionalized adults aged 18-64 years with diagnosed diabetes',\n",
       " 'Influenza vaccination among noninstitutionalized adults aged >= 65 years with diagnosed diabetes',\n",
       " 'Pneumococcal vaccination among noninstitutionalized adults aged 18-64 years with diagnosed diabetes',\n",
       " 'Pneumococcal vaccination among noninstitutionalized adults aged >= 65 years with diagnosed diabetes',\n",
       " 'Prevalence of depressive disorders among adults aged >= 18 years with diagnosed diabetes',\n",
       " 'Prevalence of high blood pressure among adults aged >= 18 years with diagnosed diabetes',\n",
       " 'Prevalence of high cholesterol among adults aged >= 18 years with diagnosed diabetes']"
      ]
     },
     "execution_count": 29,
     "metadata": {},
     "output_type": "execute_result"
    }
   ],
   "source": [
    "Questions"
   ]
  },
  {
   "cell_type": "code",
   "execution_count": 30,
   "metadata": {},
   "outputs": [
    {
     "data": {
      "text/html": [
       "<table border=\"1\" class=\"dataframe\">\n",
       "    <thead>\n",
       "        <tr>\n",
       "            <th>Weights</th> <th>Questions</th> <th>ExectedInfluence</th> <th>CorrectInfluence?</th> <th>NLPExpectedInf</th>\n",
       "        </tr>\n",
       "    </thead>\n",
       "    <tbody>\n",
       "        <tr>\n",
       "            <td>1.39228e-06 </td> <td>Adults with diagnosed diabetes aged >= 18 years who have ...</td> <td>-               </td> <td>False            </td> <td>=             </td>\n",
       "        </tr>\n",
       "        <tr>\n",
       "            <td>-3.12634e-07</td> <td>Influenza vaccination among noninstitutionalized adults  ...</td> <td>-               </td> <td>True             </td> <td>=             </td>\n",
       "        </tr>\n",
       "        <tr>\n",
       "            <td>1.19192e-06 </td> <td>Influenza vaccination among noninstitutionalized adults  ...</td> <td>+               </td> <td>True             </td> <td>=             </td>\n",
       "        </tr>\n",
       "        <tr>\n",
       "            <td>-2.7273e-06 </td> <td>Pneumococcal vaccination among noninstitutionalized adul ...</td> <td>-               </td> <td>True             </td> <td>=             </td>\n",
       "        </tr>\n",
       "        <tr>\n",
       "            <td>1.00451e-06 </td> <td>Pneumococcal vaccination among noninstitutionalized adul ...</td> <td>+               </td> <td>True             </td> <td>-             </td>\n",
       "        </tr>\n",
       "        <tr>\n",
       "            <td>2.491e-06   </td> <td>Prevalence of depressive disorders among adults aged >=  ...</td> <td>+               </td> <td>True             </td> <td>=             </td>\n",
       "        </tr>\n",
       "        <tr>\n",
       "            <td>2.31845e-06 </td> <td>Prevalence of high blood pressure among adults aged >= 1 ...</td> <td>+               </td> <td>True             </td> <td>-             </td>\n",
       "        </tr>\n",
       "        <tr>\n",
       "            <td>-1.82665e-06</td> <td>Prevalence of high cholesterol among adults aged >= 18 y ...</td> <td>+               </td> <td>False            </td> <td>=             </td>\n",
       "        </tr>\n",
       "    </tbody>\n",
       "</table>"
      ],
      "text/plain": [
       "<IPython.core.display.HTML object>"
      ]
     },
     "metadata": {},
     "output_type": "display_data"
    }
   ],
   "source": [
    "PredictedWeight = [\"-\",\"-\",\"+\",\"-\",\"+\",\"+\",\"+\",\"+\"]\n",
    "correct = [False,True,True,True,True,True,True,False]\n",
    "NLPExpectedInf = [\"=\",\"=\",\"=\",\"=\",\"-\",\"=\",\"-\",\"=\"]\n",
    "finalTable = Table().with_columns(\"Weights\", weightsVector[1:])\\\n",
    ".with_columns(\"Questions\", Questions)\\\n",
    ".with_columns(\"ExectedInfluence\", PredictedWeight)\\\n",
    ".with_columns(\"CorrectInfluence?\", correct)\\\n",
    ".with_columns(\"NLPExpectedInf\", NLPExpectedInf)\n",
    "finalTable.show()\n",
    "#This table is our first example at trying to use question answers to predict diabetes deaths"
   ]
  },
  {
   "cell_type": "code",
   "execution_count": 33,
   "metadata": {
    "scrolled": false
   },
   "outputs": [
    {
     "name": "stdout",
     "output_type": "stream",
     "text": [
      "Adults with diagnosed diabetes aged >= 18 years who have taken a diabetes self-management course\n"
     ]
    },
    {
     "data": {
      "image/png": "[encoded data removed]",
      "text/plain": [
       "<Figure size 432x288 with 1 Axes>"
      ]
     },
     "metadata": {
      "needs_background": "light"
     },
     "output_type": "display_data"
    },
    {
     "data": {
      "image/png": "[encoded data removed]",
      "text/plain": [
       "<Figure size 432x288 with 1 Axes>"
      ]
     },
     "metadata": {
      "needs_background": "light"
     },
     "output_type": "display_data"
    },
    {
     "data": {
      "image/png": "[encoded data removed]",
      "text/plain": [
       "<Figure size 432x288 with 1 Axes>"
      ]
     },
     "metadata": {
      "needs_background": "light"
     },
     "output_type": "display_data"
    },
    {
     "name": "stdout",
     "output_type": "stream",
     "text": [
      "Influenza vaccination among noninstitutionalized adults aged 18-64 years with diagnosed diabetes\n"
     ]
    },
    {
     "data": {
      "image/png": "[encoded data removed]",
      "text/plain": [
       "<Figure size 432x288 with 1 Axes>"
      ]
     },
     "metadata": {
      "needs_background": "light"
     },
     "output_type": "display_data"
    },
    {
     "data": {
      "image/png": "[encoded data removed]",
      "text/plain": [
       "<Figure size 432x288 with 1 Axes>"
      ]
     },
     "metadata": {
      "needs_background": "light"
     },
     "output_type": "display_data"
    },
    {
     "data": {
      "image/png": "[encoded data removed]",
      "text/plain": [
       "<Figure size 432x288 with 1 Axes>"
      ]
     },
     "metadata": {
      "needs_background": "light"
     },
     "output_type": "display_data"
    },
    {
     "name": "stdout",
     "output_type": "stream",
     "text": [
      "Influenza vaccination among noninstitutionalized adults aged >= 65 years with diagnosed diabetes\n"
     ]
    },
    {
     "data": {
      "image/png": "[encoded data removed]",
      "text/plain": [
       "<Figure size 432x288 with 1 Axes>"
      ]
     },
     "metadata": {
      "needs_background": "light"
     },
     "output_type": "display_data"
    },
    {
     "data": {
      "image/png": "[encoded data removed]",
      "text/plain": [
       "<Figure size 432x288 with 1 Axes>"
      ]
     },
     "metadata": {
      "needs_background": "light"
     },
     "output_type": "display_data"
    },
    {
     "data": {
      "image/png": "[encoded data removed]",
      "text/plain": [
       "<Figure size 432x288 with 1 Axes>"
      ]
     },
     "metadata": {
      "needs_background": "light"
     },
     "output_type": "display_data"
    }
   ],
   "source": [
    "QuestionsTester = Questions[:3]\n",
    "for i in QuestionsTester:\n",
    "    print(i)\n",
    "    for j in [2011, 2013, 2015]:\n",
    "        currColor = \"blue\"\n",
    "        if j == 2011:\n",
    "            currColor = \"yellow\"\n",
    "        elif j == 2013:\n",
    "            currColor = \"orange\"\n",
    "        elif j == 2015:\n",
    "            currColor = \"red\"\n",
    "    \n",
    "        smallSample = ValidDT.where(\"Question\", are.equal_to(i)).where(\"YearStart\", are.equal_to(j))\n",
    "        sampleBit = smallSample.column(\"DataValue\")\n",
    "        plt.hist(sampleBit, bins = 12, color=currColor)\n",
    "        plt.xticks(np.arange(0,40,5))\n",
    "        plt.show()"
   ]
  },
  {
   "cell_type": "code",
   "execution_count": 86,
   "metadata": {},
   "outputs": [
    {
     "data": {
      "image/png": "[encoded data removed]",
      "text/plain": [
       "<Figure size 432x288 with 1 Axes>"
      ]
     },
     "metadata": {
      "needs_background": "light"
     },
     "output_type": "display_data"
    }
   ],
   "source": [
    "#Visualized, the estimated effect of each weight on the proportion of diabetes mortalities in a state\n",
    "smallSample = finalTable.column(\"Weights\")\n",
    "#sampleBit = smallSample.column(\"DataValue\")\n",
    "plt.bar([\"Support\\nGroup\", \"Young\\nVax\\n1\", \"Elder\\nVax\\n1\", \"Young\\nVax\\n2\", \"Elder\\nVax\\n2\",\"Depress-\\nion\",\"High\\nBlood\\nPressure\",\"High\\nChol.\"], smallSample,\\\n",
    "       color = [\"red\", \"blue\",\"red\", \"blue\",\"red\",\"red\",\"red\",\"blue\" ])\n",
    "plt.show()"
   ]
  },
  {
   "cell_type": "code",
   "execution_count": null,
   "metadata": {},
   "outputs": [],
   "source": []
  }
 ],
 "metadata": {
  "kernelspec": {
   "display_name": "Python 3",
   "language": "python",
   "name": "python3"
  },
  "language_info": {
   "codemirror_mode": {
    "name": "ipython",
    "version": 3
   },
   "file_extension": ".py",
   "mimetype": "text/x-python",
   "name": "python",
   "nbconvert_exporter": "python",
   "pygments_lexer": "ipython3",
   "version": "3.7.4"
  }
 },
 "nbformat": 4,
 "nbformat_minor": 2
}
